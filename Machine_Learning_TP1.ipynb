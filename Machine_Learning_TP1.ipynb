{
 "cells": [
  {
   "cell_type": "markdown",
   "metadata": {
    "id": "PyeeIpwOiH48"
   },
   "source": [
    "## Institut des Algorithmes du Sénégal\n",
    "\n",
    "## TP1\n",
    "\n",
    "Dans ce premier TP, nous allons mettre en application les connaissaces acquises lors de la première session.\n",
    "\n",
    "Concrétement, vous serez appeller à executer les taches suivantes :\n",
    "\n",
    "## 1. Importer les libraries nécéssaires\n",
    "\n",
    "## 2. Charger les données\n",
    "\n",
    "## 3. Afficher les 10 premières lignes des données\n",
    "\n",
    "## 5. Afficher les colonnes du dataframe\n",
    "\n",
    "## 6. Afficher toutes les colonnes ayant des valeurs manquantes\n",
    "\n",
    "## 7. Dans ce cas d'étude, la variables cible est \"survived\". Visualisez la matrice de corrélation permettant d'étudier la relation entre cette variable cible et toutes les autres variuables\n",
    "\n"
   ]
  },
  {
   "cell_type": "code",
   "execution_count": null,
   "metadata": {
    "id": "nPfrrbT_iF_H"
   },
   "outputs": [],
   "source": []
  },
  {
   "cell_type": "code",
   "execution_count": null,
   "metadata": {
    "id": "wNhJp_0Vs1j0"
   },
   "outputs": [],
   "source": []
  },
  {
   "cell_type": "code",
   "execution_count": null,
   "metadata": {
    "colab": {
     "base_uri": "https://localhost:8080/"
    },
    "id": "n8JIlO_Qs2bO",
    "outputId": "2db95c12-83e6-4f41-f194-06dbb7c31383"
   },
   "outputs": [
    {
     "name": "stdout",
     "output_type": "stream",
     "text": [
      "Mounted at /content/drive\n"
     ]
    }
   ],
   "source": []
  },
  {
   "cell_type": "code",
   "execution_count": null,
   "metadata": {
    "id": "w1deBkYsqN24"
   },
   "outputs": [],
   "source": []
  },
  {
   "cell_type": "code",
   "execution_count": null,
   "metadata": {
    "id": "SF1idjA7qYIg"
   },
   "outputs": [],
   "source": []
  },
  {
   "cell_type": "code",
   "execution_count": null,
   "metadata": {
    "id": "yp3udqbzqj-V"
   },
   "outputs": [],
   "source": []
  }
 ],
 "metadata": {
  "colab": {
   "collapsed_sections": [],
   "name": "Machine_Learning_TP1.ipynb",
   "provenance": []
  },
  "kernelspec": {
   "display_name": "Python 3",
   "language": "python",
   "name": "python3"
  },
  "language_info": {
   "codemirror_mode": {
    "name": "ipython",
    "version": 3
   },
   "file_extension": ".py",
   "mimetype": "text/x-python",
   "name": "python",
   "nbconvert_exporter": "python",
   "pygments_lexer": "ipython3",
   "version": "3.8.5"
  }
 },
 "nbformat": 4,
 "nbformat_minor": 1
}
